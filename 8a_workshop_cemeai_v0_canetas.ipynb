{
 "cells": [
  {
   "cell_type": "code",
   "execution_count": null,
   "id": "8a0ff417-f6b3-4e50-b9c1-bb9aed2895df",
   "metadata": {},
   "outputs": [],
   "source": [
    "import warnings\n",
    "warnings.filterwarnings('ignore')"
   ]
  },
  {
   "cell_type": "code",
   "execution_count": null,
   "id": "ce665bd3-92cf-4943-b982-255f0950d6fb",
   "metadata": {},
   "outputs": [],
   "source": [
    "import os\n",
    "import datetime\n",
    "import numpy as np\n",
    "import pandas as pd\n",
    "import seaborn as sns\n",
    "import matplotlib.pyplot as plt\n",
    "from statsmodels.stats.stattools import medcouple"
   ]
  },
  {
   "cell_type": "code",
   "execution_count": null,
   "id": "31fc3c5a-ccab-4cf7-b038-573ced4b0c57",
   "metadata": {},
   "outputs": [],
   "source": [
    "from tqdm.notebook import tqdm\n",
    "tqdm.pandas()"
   ]
  },
  {
   "cell_type": "code",
   "execution_count": null,
   "id": "3fa0f21f-2cac-4dd7-be42-8c4d3b21c97b",
   "metadata": {},
   "outputs": [],
   "source": [
    "plt.rcParams[\"figure.figsize\"] = [14, 4]\n",
    "plt.rcParams[\"figure.autolayout\"] = True"
   ]
  },
  {
   "cell_type": "code",
   "execution_count": null,
   "id": "9bbc9b86-c4bd-4994-b830-1565effee5d0",
   "metadata": {},
   "outputs": [],
   "source": [
    "data_folder = '../data'"
   ]
  },
  {
   "cell_type": "code",
   "execution_count": null,
   "id": "20e20c83-ae86-4efb-8118-55d7389c03fb",
   "metadata": {},
   "outputs": [],
   "source": [
    "os.listdir(data_folder)"
   ]
  },
  {
   "cell_type": "code",
   "execution_count": null,
   "id": "cd1fee4e-ef35-4d50-ab80-d09694350650",
   "metadata": {},
   "outputs": [],
   "source": [
    "ofertas_df = pd.read_csv(\n",
    "    os.path.join(data_folder, 'tabela_ofertas_caneta.csv'),\n",
    "    parse_dates=['timestamp_evento'],\n",
    "    encoding='utf-8',\n",
    ")"
   ]
  },
  {
   "cell_type": "code",
   "execution_count": null,
   "id": "6d37a655-738f-42cf-aef2-d97c8df1fb58",
   "metadata": {},
   "outputs": [],
   "source": [
    "ofertas_df.head(2)"
   ]
  },
  {
   "cell_type": "code",
   "execution_count": null,
   "id": "a19cefed-ebcd-4bcb-b771-bd93f1216655",
   "metadata": {},
   "outputs": [],
   "source": [
    "ofertas_df.info()"
   ]
  },
  {
   "cell_type": "markdown",
   "id": "24546a80-338e-4d05-8c29-61b57b8dc08a",
   "metadata": {},
   "source": [
    "# ITEM_PAI"
   ]
  },
  {
   "cell_type": "code",
   "execution_count": null,
   "id": "c918f529-5d4a-460e-8df3-4bbff143196f",
   "metadata": {},
   "outputs": [],
   "source": [
    "ofertas_por_item_pai = ofertas_df.groupby(\n",
    "    by = ['id_item_pai']\n",
    ").agg([np.mean, np.std, 'count'])\n",
    "ofertas_por_item_pai.fillna(0, inplace=True)"
   ]
  },
  {
   "cell_type": "code",
   "execution_count": null,
   "id": "e444354f-36f8-4918-b85b-a77d7496ef41",
   "metadata": {},
   "outputs": [],
   "source": [
    "ofertas_por_item_pai['preco_da_oferta', 'cv'] = (\n",
    "    (ofertas_por_item_pai['preco_da_oferta', 'std']/ofertas_por_item_pai['preco_da_oferta', 'mean']) * 100\n",
    ")\n",
    "ofertas_por_item_pai.head(2)"
   ]
  },
  {
   "cell_type": "code",
   "execution_count": null,
   "id": "862b92a7-ca28-4b20-91a2-7aab81590614",
   "metadata": {},
   "outputs": [],
   "source": [
    "len(ofertas_por_item_pai)"
   ]
  },
  {
   "cell_type": "code",
   "execution_count": null,
   "id": "407a8df7-7a79-4d36-8a7c-3d5a649ee250",
   "metadata": {},
   "outputs": [],
   "source": [
    "ofertas_por_item_pai_validas = ofertas_por_item_pai[\n",
    "  (ofertas_por_item_pai[('preco_da_oferta', 'count')] >= 2) &\n",
    "  (ofertas_por_item_pai[('preco_da_oferta', 'std')] != 0)\n",
    "]\n",
    "ofertas_por_item_pai_validas.head(2)"
   ]
  },
  {
   "cell_type": "code",
   "execution_count": null,
   "id": "e8e593ef-c029-49b2-991e-87fbdfaca2f1",
   "metadata": {},
   "outputs": [],
   "source": [
    "len(ofertas_por_item_pai_validas)"
   ]
  },
  {
   "cell_type": "code",
   "execution_count": null,
   "id": "366f8c6f-38cf-4648-b612-cf44a0b04104",
   "metadata": {},
   "outputs": [],
   "source": [
    "itens_pai_com_variacao_no_preco_ofertado = ofertas_por_item_pai_validas.index.get_level_values('id_item_pai').to_list()"
   ]
  },
  {
   "cell_type": "code",
   "execution_count": null,
   "id": "bc90119d-59f7-4a8f-ba3e-3d0b99d20590",
   "metadata": {},
   "outputs": [],
   "source": [
    "ofertas_candidatas_a_outliers_considerando_item_pai = ofertas_df.query(\n",
    "    \"id_item_pai in @itens_pai_com_variacao_no_preco_ofertado\"\n",
    ")\n",
    "ofertas_candidatas_a_outliers_considerando_item_pai.head(2)"
   ]
  },
  {
   "cell_type": "markdown",
   "id": "f9bcc0fd-d97c-485e-8bcd-05171ae8b4a3",
   "metadata": {},
   "source": [
    "# Identificacao de Outliers"
   ]
  },
  {
   "cell_type": "markdown",
   "id": "e46b8687-a8fa-4db3-bd3b-8acfa8df1360",
   "metadata": {},
   "source": [
    "## Boxplot"
   ]
  },
  {
   "cell_type": "code",
   "execution_count": null,
   "id": "bc36cc6c-c85e-4c1b-a2dc-aea3a1eb9a0f",
   "metadata": {},
   "outputs": [],
   "source": [
    "groupby = ofertas_candidatas_a_outliers_considerando_item_pai.groupby(\n",
    "    by = ['id_item_pai']\n",
    ")\n",
    "boxplot = groupby['preco_da_oferta'].describe()[['mean', 'std', 'count', '25%', '50%', '75%', 'min', 'max']]\n",
    "indices = groupby.indices\n",
    "\n",
    "boxplot['iqr'] = boxplot['75%'] - boxplot['25%']\n",
    "boxplot['limite_inferior'] = boxplot['25%'] - (1.5 * boxplot['iqr'])\n",
    "boxplot['limite_superior'] = boxplot['75%'] + (1.5 * boxplot['iqr'])\n",
    "boxplot.head(2)"
   ]
  },
  {
   "cell_type": "code",
   "execution_count": null,
   "id": "22ce8aad-1439-40c1-b957-31c3da8f9206",
   "metadata": {},
   "outputs": [],
   "source": [
    "outliers = []\n",
    "\n",
    "with tqdm(total=len(indices.keys())) as pbar:\n",
    "    for id_item_pai in indices.keys():\n",
    "\n",
    "        ofertas = ofertas_candidatas_a_outliers_considerando_item_pai.iloc[indices[id_item_pai],:]\n",
    "\n",
    "        for oferta in ofertas.itertuples():\n",
    "            if oferta.preco_da_oferta > boxplot.loc[id_item_pai]['limite_superior'] or oferta.preco_da_oferta < boxplot.loc[id_item_pai]['limite_inferior']:\n",
    "                outliers.append(oferta)\n",
    "        \n",
    "        pbar.update(1)\n",
    "        \n",
    "outliers_item_pai_boxplot = pd.DataFrame(outliers)\n",
    "outliers_item_pai_boxplot.drop('Index', axis=1, inplace=True)\n",
    "outliers_item_pai_boxplot.head(2)"
   ]
  },
  {
   "cell_type": "code",
   "execution_count": null,
   "id": "4e389ce5-f895-438e-9a29-ddc6b2e956b9",
   "metadata": {},
   "outputs": [],
   "source": [
    "outliers_item_pai_boxplot.to_csv('../results/outliers_item_pai_ofertas_caneta_boxplot.csv')"
   ]
  },
  {
   "cell_type": "markdown",
   "id": "2bac7893-ea67-4750-bcbe-a78d2e56b5ed",
   "metadata": {},
   "source": [
    "## Boxplot ajustado"
   ]
  },
  {
   "cell_type": "code",
   "execution_count": null,
   "id": "b1f8a469-a17c-4ee1-bd43-587f889b1a46",
   "metadata": {},
   "outputs": [],
   "source": [
    "boxplot_ajustado = groupby['preco_da_oferta'].agg(\n",
    "    [\n",
    "        lambda x : medcouple(x.values), \n",
    "        lambda x : np.percentile(x.values, 25),\n",
    "        lambda x : np.percentile(x.values, 75)\n",
    "    ]\n",
    ")\n",
    "\n",
    "boxplot_ajustado.rename(\n",
    "    columns={\n",
    "        '<lambda_0>': 'mc',\n",
    "        '<lambda_1>': 'q1',\n",
    "        '<lambda_2>': 'q3',\n",
    "    },\n",
    "    inplace=True\n",
    ")\n",
    "boxplot_ajustado['iqr'] = boxplot_ajustado['q3'] - boxplot_ajustado['q1']\n",
    "\n",
    "boxplot_ajustado['limite_inferior'] = boxplot_ajustado.apply(\n",
    "    lambda x: (x.q1 - (1.5 * np.exp(-4*x.mc) * x.iqr)) if x.mc >= 0 else (x.q1 - (1.5 * np.exp(-3*x.mc) * x.iqr)), \n",
    "    axis = 1\n",
    ")\n",
    "\n",
    "boxplot_ajustado['limite_superior'] = boxplot_ajustado.apply(\n",
    "    lambda x: (x.q3 + (1.5 * np.exp(3*x.mc) * x.iqr)) if x.mc >= 0 else (x.q3 + (1.5 * np.exp(4*x.mc) * x.iqr)), \n",
    "    axis = 1\n",
    ")\n",
    "\n",
    "boxplot_ajustado.head(2)"
   ]
  },
  {
   "cell_type": "code",
   "execution_count": null,
   "id": "e7d4bdc0-2077-492c-a4d2-d46988053d62",
   "metadata": {},
   "outputs": [],
   "source": [
    "outliers = []\n",
    "\n",
    "with tqdm(total=len(boxplot_ajustado.index)) as pbar:\n",
    "    for id_item_pai in indices.keys():\n",
    "\n",
    "        ofertas = ofertas_candidatas_a_outliers_considerando_item_pai.iloc[indices[id_item_pai],:]\n",
    "\n",
    "        for oferta in ofertas.itertuples():\n",
    "            if oferta.preco_da_oferta > boxplot_ajustado.loc[id_item_pai]['limite_superior'] or oferta.preco_da_oferta < boxplot_ajustado.loc[id_item_pai]['limite_inferior']:\n",
    "                outliers.append(oferta)\n",
    "        \n",
    "        pbar.update(1)\n",
    "        \n",
    "outliers_item_pai_boxplot_ajustado = pd.DataFrame(outliers)\n",
    "outliers_item_pai_boxplot_ajustado.drop('Index', axis=1, inplace=True)\n",
    "outliers_item_pai_boxplot_ajustado.head(2)"
   ]
  },
  {
   "cell_type": "code",
   "execution_count": null,
   "id": "c029ae78-8cf2-47e1-8ae1-d4092cde9aca",
   "metadata": {},
   "outputs": [],
   "source": [
    "outliers_item_pai_boxplot_ajustado.to_csv('../results/outliers_item_pai_ofertas_caneta_boxplot_ajustado.csv')"
   ]
  },
  {
   "cell_type": "markdown",
   "id": "c1bfbf5b-0268-4890-b829-dd7cf4731395",
   "metadata": {},
   "source": [
    "# Resultados"
   ]
  },
  {
   "cell_type": "markdown",
   "id": "02dab97d-a5ea-4a77-ace3-b37fc6b5720d",
   "metadata": {},
   "source": [
    "## Boxplot"
   ]
  },
  {
   "cell_type": "code",
   "execution_count": null,
   "id": "00d10048-49da-4102-af0a-17cd130b760c",
   "metadata": {},
   "outputs": [],
   "source": [
    "len(outliers_item_pai_boxplot)"
   ]
  },
  {
   "cell_type": "markdown",
   "id": "72a9df68-db5d-463b-b8fb-94ed936c6ee9",
   "metadata": {},
   "source": [
    "## Boxplot ajustado"
   ]
  },
  {
   "cell_type": "code",
   "execution_count": null,
   "id": "ac78cb00-ed35-45fa-92be-e31520c4a41f",
   "metadata": {},
   "outputs": [],
   "source": [
    "len(outliers_item_pai_boxplot_ajustado)"
   ]
  },
  {
   "cell_type": "code",
   "execution_count": null,
   "id": "29b80d19-c14e-48cd-9818-b654702100d8",
   "metadata": {},
   "outputs": [],
   "source": []
  }
 ],
 "metadata": {
  "kernelspec": {
   "display_name": "Python 3",
   "language": "python",
   "name": "python3"
  },
  "language_info": {
   "codemirror_mode": {
    "name": "ipython",
    "version": 3
   },
   "file_extension": ".py",
   "mimetype": "text/x-python",
   "name": "python",
   "nbconvert_exporter": "python",
   "pygments_lexer": "ipython3",
   "version": "3.8.0"
  }
 },
 "nbformat": 4,
 "nbformat_minor": 5
}
