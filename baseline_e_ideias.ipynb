{
  "nbformat": 4,
  "nbformat_minor": 0,
  "metadata": {
    "colab": {
      "name": "americanas.ipynb",
      "provenance": []
    },
    "kernelspec": {
      "name": "python3",
      "display_name": "Python 3"
    },
    "language_info": {
      "name": "python"
    }
  },
  "cells": [
    {
      "cell_type": "code",
      "execution_count": null,
      "metadata": {
        "id": "OGMsKULIwAHy"
      },
      "outputs": [],
      "source": [
        "## Bibliotecas\n",
        "import pandas as pd\n",
        "import numpy as np\n",
        "\n",
        "import warnings\n",
        "warnings.filterwarnings('ignore')"
      ]
    },
    {
      "cell_type": "code",
      "source": [
        "PATH = 'tabela_ofertas_caneta.csv'\n",
        "TARGET = 'preco_da_oferta'\n",
        "FEATURES = ['id_oferta']\n",
        "DATE_COLUMN = \"timestamp_evento\"\n",
        "\n",
        "df = pd.read_csv(PATH)\n",
        "\n",
        "df[DATE_COLUMN] = pd.to_datetime(df[DATE_COLUMN])\n",
        "df['date'] = pd.DatetimeIndex(df[DATE_COLUMN]).normalize()\n",
        "\n",
        "df = df[['date', TARGET] + FEATURES]\n",
        "\n",
        "df = df.fillna(method=\"ffill\")\n",
        "\n",
        "aggregation = df[['date',TARGET] + FEATURES].groupby(\n",
        "    ['id_oferta', 'date']\n",
        ").agg([np.mean, np.std, 'count'])\n",
        "\n",
        "valid_data = aggregation[\n",
        "  aggregation[('preco_da_oferta', 'count')] > 50\n",
        "]"
      ],
      "metadata": {
        "id": "EGChkj9dxgkd"
      },
      "execution_count": null,
      "outputs": []
    },
    {
      "cell_type": "code",
      "source": [
        "def get_price_alert(id_oferta, date, limiar_inf, limiar_sup, new_price):\n",
        "  mean = valid_data.loc[(id_oferta, date), ('preco_da_oferta', 'mean')][0]\n",
        "  std = valid_data.loc[(id_oferta, date), ('preco_da_oferta', 'std')][0]\n",
        "  if new_price > mean + limiar_sup * std:\n",
        "    return True\n",
        "  elif new_price < mean - limiar_inf * std:\n",
        "    return True\n",
        "  else:\n",
        "    return False\n"
      ],
      "metadata": {
        "id": "cJbZhq7S-MTg"
      },
      "execution_count": null,
      "outputs": []
    },
    {
      "cell_type": "code",
      "source": [
        "# Exemplo\n",
        "id_oferta = 'FfNzoXjebpoheVxG8D+AbqeQH9qfLtdS0l2zjcU7kvU='\n",
        "date = '2021-07-20 00:00:00+00:00'\n",
        "limiar_inf = 2.8\n",
        "limiar_sup = 2.8\n",
        "new_price = 180\n",
        "get_price_alert(id_oferta, date, limiar_inf, limiar_sup, new_price)"
      ],
      "metadata": {
        "colab": {
          "base_uri": "https://localhost:8080/"
        },
        "id": "eQzLFcdu5Y0h",
        "outputId": "ef6233d9-ec1c-4ec8-cc36-2ecd3cd9a9c9"
      },
      "execution_count": null,
      "outputs": [
        {
          "output_type": "execute_result",
          "data": {
            "text/plain": [
              "True"
            ]
          },
          "metadata": {},
          "execution_count": 61
        }
      ]
    },
    {
      "cell_type": "code",
      "source": [
        "# Exemplo\n",
        "id_oferta = 'FfNzoXjebpoheVxG8D+AbqeQH9qfLtdS0l2zjcU7kvU='\n",
        "date = '2021-07-20 00:00:00+00:00'\n",
        "limiar_inf = 2.8\n",
        "limiar_sup = 2.8\n",
        "new_price = 125\n",
        "get_price_alert(id_oferta, date, limiar_inf, limiar_sup, new_price)"
      ],
      "metadata": {
        "colab": {
          "base_uri": "https://localhost:8080/"
        },
        "id": "UuMl9UpU60JJ",
        "outputId": "12536d03-e90c-42f5-fb99-8f044ab4397f"
      },
      "execution_count": null,
      "outputs": [
        {
          "output_type": "execute_result",
          "data": {
            "text/plain": [
              "False"
            ]
          },
          "metadata": {},
          "execution_count": 62
        }
      ]
    },
    {
      "cell_type": "code",
      "source": [
        "# Exemplo\n",
        "id_oferta = 'FfNzoXjebpoheVxG8D+AbqeQH9qfLtdS0l2zjcU7kvU='\n",
        "date = '2021-07-20 00:00:00+00:00'\n",
        "limiar_inf = 2.8\n",
        "limiar_sup = 2.8\n",
        "new_price = 180\n",
        "get_price_alert(id_oferta, date, limiar_inf, limiar_sup, new_price)"
      ],
      "metadata": {
        "colab": {
          "base_uri": "https://localhost:8080/"
        },
        "id": "Ews6JzTb7Rto",
        "outputId": "5a71d1cd-eed8-4bcc-ef5a-6134333b81ba"
      },
      "execution_count": null,
      "outputs": [
        {
          "output_type": "execute_result",
          "data": {
            "text/plain": [
              "True"
            ]
          },
          "metadata": {},
          "execution_count": 63
        }
      ]
    },
    {
      "cell_type": "code",
      "source": [
        ""
      ],
      "metadata": {
        "id": "jmLa0ssf7TQp"
      },
      "execution_count": null,
      "outputs": []
    },
    {
      "cell_type": "markdown",
      "source": [
        "- Testar falsos positivos\n",
        "- Entrada de data por intervalo\n",
        "- Trocar std por zscore\n",
        "- Isolation Forest para o Bagging\n",
        "- Bagging \n",
        "$$(1, 0, 1) : leandro\\\\\n",
        "(0, 1, 0) : vilmar\\\\\n",
        "(1, 0, 0) : galileu\\\\\n",
        "->\\\\\n",
        "(0, 0, 0)$$"
      ],
      "metadata": {
        "id": "0ZwhUdztisxo"
      }
    },
    {
      "cell_type": "code",
      "source": [
        ""
      ],
      "metadata": {
        "id": "TH8k-Mh0jDC8"
      },
      "execution_count": null,
      "outputs": []
    }
  ]
}